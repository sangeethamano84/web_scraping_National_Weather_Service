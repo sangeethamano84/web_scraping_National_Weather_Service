{
 "cells": [
  {
   "cell_type": "markdown",
   "metadata": {},
   "source": [
    "# web scraping with python using beautiful soup & requests"
   ]
  },
  {
   "cell_type": "markdown",
   "metadata": {},
   "source": [
    "### Import Libraries\n",
    "We can download pages using the Python Requests library\n",
    "We can use the BeautifulSoup library to parse the document"
   ]
  },
  {
   "cell_type": "code",
   "execution_count": 27,
   "metadata": {},
   "outputs": [],
   "source": [
    "import requests\n",
    "from bs4 import BeautifulSoup\n",
    "import pandas as pd"
   ]
  },
  {
   "cell_type": "markdown",
   "metadata": {},
   "source": [
    "## create an instance of the BeautifulSoup class to parse the document and extract items:"
   ]
  },
  {
   "cell_type": "code",
   "execution_count": 24,
   "metadata": {},
   "outputs": [
    {
     "name": "stdout",
     "output_type": "stream",
     "text": [
      "Today\n",
      "Patchy Fogthen Sunny\n",
      "High: 80 °F\n",
      "['Today', 'Tonight', 'Wednesday', 'WednesdayNight', 'Thursday', 'ThursdayNight', 'Friday', 'FridayNight', 'Saturday']\n",
      "['Patchy Fogthen Sunny', 'Patchy Fog', 'Patchy Fogthen Sunny', 'Patchy Fog', 'Patchy Fogthen Sunny', 'Patchy Fog', 'Patchy Fogthen Sunny', 'Patchy Fog', 'Patchy Fogthen Sunny']\n",
      "['High: 80 °F', 'Low: 64 °F', 'High: 76 °F', 'Low: 63 °F', 'High: 75 °F', 'Low: 63 °F', 'High: 77 °F', 'Low: 63 °F', 'High: 78 °F']\n"
     ]
    }
   ],
   "source": [
    "\n",
    "# url of the page\n",
    "page = requests.get('https://forecast.weather.gov/MapClick.php?lat=33.936660000000074&lon=-118.24891999999994#.XxbyqC2z2L8')\n",
    "\n",
    "# Instance of beautiful soup to parse the page\n",
    "soup = BeautifulSoup(page.content, 'html.parser')\n",
    "\n",
    "# Find attribute to extract a single tag, we can use find_all method, to find all the instances of a tag on a page.\n",
    "week =soup.find(id =\"seven-day-forecast-body\")\n",
    "items = week.find_all(class_=\"tombstone-container\")\n",
    "\n",
    "#get_text method to extract all of the text inside the tag:\n",
    "print(items[0].find(class_=\"period-name\").get_text())\n",
    "print(items[0].find(class_=\"short-desc\").get_text())\n",
    "print(items[0].find(class_=\"temp temp-high\").get_text())\n",
    "\n",
    "\n",
    "#extracting all the items in the list\n",
    "period_names = [item.find(class_=\"period-name\").get_text() for item in items]\n",
    "print(period_names)\n",
    "short_desc = [item.find(class_=\"short-desc\").get_text() for item in items]\n",
    "print(short_desc)\n",
    "temp_high = [item.find(class_=\"temp\").get_text() for item in items]\n",
    "print(temp_high)"
   ]
  },
  {
   "cell_type": "markdown",
   "metadata": {},
   "source": [
    "## Loading the extracted items in pandas"
   ]
  },
  {
   "cell_type": "code",
   "execution_count": 29,
   "metadata": {},
   "outputs": [
    {
     "name": "stdout",
     "output_type": "stream",
     "text": [
      "           period           Description  Temperature\n",
      "0           Today  Patchy Fogthen Sunny  High: 80 °F\n",
      "1         Tonight            Patchy Fog   Low: 64 °F\n",
      "2       Wednesday  Patchy Fogthen Sunny  High: 76 °F\n",
      "3  WednesdayNight            Patchy Fog   Low: 63 °F\n",
      "4        Thursday  Patchy Fogthen Sunny  High: 75 °F\n",
      "5   ThursdayNight            Patchy Fog   Low: 63 °F\n",
      "6          Friday  Patchy Fogthen Sunny  High: 77 °F\n",
      "7     FridayNight            Patchy Fog   Low: 63 °F\n",
      "8        Saturday  Patchy Fogthen Sunny  High: 78 °F\n"
     ]
    }
   ],
   "source": [
    "\n",
    "weather_stuff = pd.DataFrame({'period':period_names,'Description':short_desc,'Temperature':temp_high})\n",
    "print(weather_stuff)"
   ]
  },
  {
   "cell_type": "code",
   "execution_count": 30,
   "metadata": {},
   "outputs": [
    {
     "data": {
      "text/html": [
       "<div>\n",
       "<style scoped>\n",
       "    .dataframe tbody tr th:only-of-type {\n",
       "        vertical-align: middle;\n",
       "    }\n",
       "\n",
       "    .dataframe tbody tr th {\n",
       "        vertical-align: top;\n",
       "    }\n",
       "\n",
       "    .dataframe thead th {\n",
       "        text-align: right;\n",
       "    }\n",
       "</style>\n",
       "<table border=\"1\" class=\"dataframe\">\n",
       "  <thead>\n",
       "    <tr style=\"text-align: right;\">\n",
       "      <th></th>\n",
       "      <th>period</th>\n",
       "      <th>Description</th>\n",
       "      <th>Temperature</th>\n",
       "    </tr>\n",
       "  </thead>\n",
       "  <tbody>\n",
       "    <tr>\n",
       "      <th>0</th>\n",
       "      <td>Today</td>\n",
       "      <td>Patchy Fogthen Sunny</td>\n",
       "      <td>High: 80 °F</td>\n",
       "    </tr>\n",
       "    <tr>\n",
       "      <th>1</th>\n",
       "      <td>Tonight</td>\n",
       "      <td>Patchy Fog</td>\n",
       "      <td>Low: 64 °F</td>\n",
       "    </tr>\n",
       "    <tr>\n",
       "      <th>2</th>\n",
       "      <td>Wednesday</td>\n",
       "      <td>Patchy Fogthen Sunny</td>\n",
       "      <td>High: 76 °F</td>\n",
       "    </tr>\n",
       "    <tr>\n",
       "      <th>3</th>\n",
       "      <td>WednesdayNight</td>\n",
       "      <td>Patchy Fog</td>\n",
       "      <td>Low: 63 °F</td>\n",
       "    </tr>\n",
       "    <tr>\n",
       "      <th>4</th>\n",
       "      <td>Thursday</td>\n",
       "      <td>Patchy Fogthen Sunny</td>\n",
       "      <td>High: 75 °F</td>\n",
       "    </tr>\n",
       "    <tr>\n",
       "      <th>5</th>\n",
       "      <td>ThursdayNight</td>\n",
       "      <td>Patchy Fog</td>\n",
       "      <td>Low: 63 °F</td>\n",
       "    </tr>\n",
       "    <tr>\n",
       "      <th>6</th>\n",
       "      <td>Friday</td>\n",
       "      <td>Patchy Fogthen Sunny</td>\n",
       "      <td>High: 77 °F</td>\n",
       "    </tr>\n",
       "    <tr>\n",
       "      <th>7</th>\n",
       "      <td>FridayNight</td>\n",
       "      <td>Patchy Fog</td>\n",
       "      <td>Low: 63 °F</td>\n",
       "    </tr>\n",
       "    <tr>\n",
       "      <th>8</th>\n",
       "      <td>Saturday</td>\n",
       "      <td>Patchy Fogthen Sunny</td>\n",
       "      <td>High: 78 °F</td>\n",
       "    </tr>\n",
       "  </tbody>\n",
       "</table>\n",
       "</div>"
      ],
      "text/plain": [
       "           period           Description  Temperature\n",
       "0           Today  Patchy Fogthen Sunny  High: 80 °F\n",
       "1         Tonight            Patchy Fog   Low: 64 °F\n",
       "2       Wednesday  Patchy Fogthen Sunny  High: 76 °F\n",
       "3  WednesdayNight            Patchy Fog   Low: 63 °F\n",
       "4        Thursday  Patchy Fogthen Sunny  High: 75 °F\n",
       "5   ThursdayNight            Patchy Fog   Low: 63 °F\n",
       "6          Friday  Patchy Fogthen Sunny  High: 77 °F\n",
       "7     FridayNight            Patchy Fog   Low: 63 °F\n",
       "8        Saturday  Patchy Fogthen Sunny  High: 78 °F"
      ]
     },
     "execution_count": 30,
     "metadata": {},
     "output_type": "execute_result"
    }
   ],
   "source": [
    "weather_stuff"
   ]
  },
  {
   "cell_type": "markdown",
   "metadata": {},
   "source": [
    "## Exporting to csv File"
   ]
  },
  {
   "cell_type": "code",
   "execution_count": 31,
   "metadata": {},
   "outputs": [
    {
     "data": {
      "text/plain": [
       "',period,Description,Temperature\\n0,Today,Patchy Fogthen Sunny,High: 80 °F\\n1,Tonight,Patchy Fog,Low: 64 °F\\n2,Wednesday,Patchy Fogthen Sunny,High: 76 °F\\n3,WednesdayNight,Patchy Fog,Low: 63 °F\\n4,Thursday,Patchy Fogthen Sunny,High: 75 °F\\n5,ThursdayNight,Patchy Fog,Low: 63 °F\\n6,Friday,Patchy Fogthen Sunny,High: 77 °F\\n7,FridayNight,Patchy Fog,Low: 63 °F\\n8,Saturday,Patchy Fogthen Sunny,High: 78 °F\\n'"
      ]
     },
     "execution_count": 31,
     "metadata": {},
     "output_type": "execute_result"
    }
   ],
   "source": [
    "weather_stuff.to_csv('weather.csv')"
   ]
  },
  {
   "cell_type": "code",
   "execution_count": null,
   "metadata": {},
   "outputs": [],
   "source": []
  }
 ],
 "metadata": {
  "kernelspec": {
   "display_name": "Python 3.6 (tensorflow)",
   "language": "python",
   "name": "tensorflow"
  },
  "language_info": {
   "codemirror_mode": {
    "name": "ipython",
    "version": 3
   },
   "file_extension": ".py",
   "mimetype": "text/x-python",
   "name": "python",
   "nbconvert_exporter": "python",
   "pygments_lexer": "ipython3",
   "version": "3.7.6"
  }
 },
 "nbformat": 4,
 "nbformat_minor": 4
}
